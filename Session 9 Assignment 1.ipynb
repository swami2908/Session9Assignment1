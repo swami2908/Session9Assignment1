{
 "cells": [
  {
   "cell_type": "markdown",
   "metadata": {},
   "source": [
    "## Session 9 - Assignment 1"
   ]
  },
  {
   "cell_type": "markdown",
   "metadata": {},
   "source": [
    "### Task 1"
   ]
  },
  {
   "cell_type": "markdown",
   "metadata": {},
   "source": [
    "#### Question 1. You survey households in your area to find the average rent they are paying. Find the standard deviation from the following data: $1550, $1700, $900, $850, $1000, $950"
   ]
  },
  {
   "cell_type": "code",
   "execution_count": 15,
   "metadata": {},
   "outputs": [
    {
     "name": "stdout",
     "output_type": "stream",
     "text": [
      "Standard Deviation 367.99003609699366\n"
     ]
    }
   ],
   "source": [
    "import statistics as stat\n",
    "\n",
    "def find_mean(arr):\n",
    "    return sum(arr)/len(arr)\n",
    "\n",
    "from math import sqrt\n",
    "\n",
    "def find_var(arr):\n",
    "    variance = 0.0\n",
    "    mean = find_mean(arr)\n",
    "    variance = sum((x-mean)**2 for x in arr)/(len(arr)-1)\n",
    "    return variance\n",
    "def find_std_dev(arr):\n",
    "    return find_var(arr)**0.5\n",
    "\n",
    "arr = [1550, 1700, 900, 850, 1000, 950]\n",
    "print (\"Standard Deviation \" + str(find_std_dev(arr)))"
   ]
  },
  {
   "cell_type": "markdown",
   "metadata": {},
   "source": [
    "#### Question 2. Find the variance for the following set of data representing trees in California (heights in feet):\n",
    "#### 3, 21, 98, 203, 17, 9"
   ]
  },
  {
   "cell_type": "code",
   "execution_count": 16,
   "metadata": {},
   "outputs": [
    {
     "name": "stdout",
     "output_type": "stream",
     "text": [
      "Variance 6219.9\n",
      "Standard Deviation 78.86634263106157\n"
     ]
    }
   ],
   "source": [
    "# Method 1 using function\n",
    "\n",
    "arr2 = [3, 21, 98, 203, 17, 9]\n",
    "\n",
    "print(\"Variance \" + str(find_var(arr2)))\n",
    "print(\"Standard Deviation \" + str(find_std_dev(arr2)))"
   ]
  },
  {
   "cell_type": "code",
   "execution_count": 17,
   "metadata": {},
   "outputs": [
    {
     "name": "stdout",
     "output_type": "stream",
     "text": [
      "Variance 6219.9\n",
      "Standard Deviation 78.86634263106157\n"
     ]
    }
   ],
   "source": [
    "# Method 2 using stats library\n",
    "\n",
    "arr3 = [3, 21, 98, 203, 17, 9]\n",
    "print(\"Variance \" + str(stat.variance(arr3)))\n",
    "print(\"Standard Deviation \" + str(stat.stdev(arr3)))"
   ]
  },
  {
   "cell_type": "markdown",
   "metadata": {},
   "source": [
    "#### Question 3 - In a class on 100 students, 80 students passed in all subjects, 10 failed in one subject, 7 failed in two subjects and 3 failed in three subjects. Find the probability distribution of the variable for number of subjects a student from the given class has failed in."
   ]
  },
  {
   "cell_type": "code",
   "execution_count": 18,
   "metadata": {},
   "outputs": [
    {
     "name": "stdout",
     "output_type": "stream",
     "text": [
      "The Probability of failing i Subjects, P(X=0) = 0.8\n",
      "The Probability of failing i Subjects, P(X=1) = 0.1\n",
      "The Probability of failing i Subjects, P(X=2) = 0.07\n",
      "The Probability of failing i Subjects, P(X=3) = 0.03\n"
     ]
    }
   ],
   "source": [
    "# Method 1\n",
    "\n",
    "arr4 = [80,10,7,3]\n",
    "count =-1\n",
    "for i in arr4:\n",
    "    count +=1\n",
    "    print(\"The Probability of failing i Subjects, P(X=\"+str(count)+\") = \"+str(i/100))"
   ]
  },
  {
   "cell_type": "code",
   "execution_count": 19,
   "metadata": {},
   "outputs": [
    {
     "name": "stdout",
     "output_type": "stream",
     "text": [
      "Probability of students failing in  0  subjects is  0.8\n",
      "Probability of students failing in  1  subjects is  0.1\n",
      "Probability of students failing in  2  subjects is  0.07\n",
      "Probability of students failing in  3  subjects is  0.03\n"
     ]
    }
   ],
   "source": [
    "# Method 2 - using Pandas Library\n",
    "\n",
    "import pandas as pd\n",
    "\n",
    "listfail=[0,1,2,3]\n",
    "liststud=[80,10,7,3]\n",
    "\n",
    "for i in range(0,len(liststud)):\n",
    "    print(\"Probability of students failing in \",listfail[i],\" subjects is \",liststud[i]/100)\n"
   ]
  },
  {
   "cell_type": "markdown",
   "metadata": {},
   "source": [
    "### Task 2"
   ]
  },
  {
   "cell_type": "markdown",
   "metadata": {},
   "source": [
    "#### Question - 1. A test is conducted which is consisting of 20 MCQs (multiple choices questions) with every MCQ having its four options out of which only one is correct. Determine the probability that a person undertaking that test has answered exactly 5 questions wrong."
   ]
  },
  {
   "cell_type": "code",
   "execution_count": 21,
   "metadata": {},
   "outputs": [
    {
     "name": "stdout",
     "output_type": "stream",
     "text": [
      "The probability that a person undertaking that test has answered exactly 5 questions wrong is : 0.00000343\n"
     ]
    }
   ],
   "source": [
    "# Method 1 - Using Math Library\n",
    "import math\n",
    "c=0 # Comobination of 5 out of 20\n",
    "n=20\n",
    "k=5\n",
    "p_s = 0.25 # (1/4)\n",
    "p_1_s = 0.75 #(1-1/4)\n",
    "c= math.factorial(n)/((math.factorial(n-k))*(math.factorial(k)))\n",
    "# print(c)\n",
    "P=c*math.pow(p_s,n-k)*math.pow(p_1_s,k)\n",
    "print('The probability that a person undertaking that test has answered exactly 5 questions wrong is : %.08f' % P)"
   ]
  },
  {
   "cell_type": "code",
   "execution_count": 22,
   "metadata": {},
   "outputs": [
    {
     "name": "stdout",
     "output_type": "stream",
     "text": [
      "The probability that a person undertaking that test has answered exactly 5 questions wrong is: 0.00000343\n"
     ]
    }
   ],
   "source": [
    "# Method 2 - Using Stats Library\n",
    "\n",
    "import numpy as np\n",
    "import math\n",
    "from scipy.stats import binom\n",
    "\n",
    "k=15 \n",
    "n=20 \n",
    "p=(1/4) \n",
    "\n",
    "# Using Binom Method\n",
    "probs=binom.pmf(k,n,p)\n",
    "print('The probability that a person undertaking that test has answered exactly 5 questions wrong is: %.8f' % (probs))"
   ]
  },
  {
   "cell_type": "markdown",
   "metadata": {},
   "source": [
    "#### Question - 2. A die marked A to E is rolled 50 times. Find the probability of getting a “D” exactly 5 times"
   ]
  },
  {
   "cell_type": "markdown",
   "metadata": {},
   "source": [
    "Solution:-\n",
    "\n",
    "The Probability of getting a D on a given throws = 1/5\n",
    "\n",
    "The Probability of getting a non D on given throws = [1-(1/5)] = 4/5\n",
    "\n",
    "Total Number of trals = 50\n",
    "\n",
    "Desiarable number of successful trial = 5\n",
    "\n",
    "According to Bionmial distribution:"
   ]
  },
  {
   "cell_type": "code",
   "execution_count": 23,
   "metadata": {},
   "outputs": [
    {
     "name": "stdout",
     "output_type": "stream",
     "text": [
      "The probability of getting a D exactly 5 times: 3.4264958230778435e-06\n"
     ]
    }
   ],
   "source": [
    "# Method 1 - Using Stats Library\n",
    "import numpy as np\n",
    "import math\n",
    "from scipy.stats import binom\n",
    "\n",
    "k=5 \n",
    "n=50\n",
    "p=(1/5)\n",
    "\n",
    "# Using Binomial Math Formula\n",
    "# P(x) = n! / x!(n-x)! * (p**x) * (1-p)**(n-x)\n",
    "prob_five_D = (math.factorial(n)/(math.factorial(k)* math.factorial(n-k)))*(p**5)*((1-p)**45) \n",
    "print(\"The probability of getting a D exactly 5 times:\",probs)"
   ]
  },
  {
   "cell_type": "markdown",
   "metadata": {},
   "source": [
    "#### 3. Two balls are drawn at random in succession without replacement from an urn containing 4 red balls and 6 black balls.Find the probabilities of all the possible outcomes."
   ]
  },
  {
   "cell_type": "markdown",
   "metadata": {},
   "source": [
    "Solution :-\n",
    "\n",
    "Total Number of Black Balls = 6\n",
    "\n",
    "Total Number of Reb Balls = 4\n",
    "\n",
    "Total Number of Balls = (6+4 = 10)\n",
    "\n",
    "Possible outcomes (RR), (RB), (BR), (BB)\n",
    "\n",
    "Total Possiblilities = 10C2\n",
    "\n",
    "P1-First Possiblility : Two Red Balls (RR) - No. of Favourable outcomes = 4C2. Total No of Outcomes = 10C2\n",
    "\n",
    "P2-Second Possiblility : One Red & One Black Balls (RB or BR) - No of Favourable outcomes = 4C1*6C1. Total No of Outcomes = 10C2\n",
    "\n",
    "P3-Third Possiblility : Two Black Balls (BB) - No of Favourable outcomes = 6C2. Total No of Outcomes = 10C2"
   ]
  },
  {
   "cell_type": "code",
   "execution_count": 25,
   "metadata": {},
   "outputs": [
    {
     "name": "stdout",
     "output_type": "stream",
     "text": [
      "1: Probability of drawing two Red balls (RR): 0.133\n",
      "2: Probability of drawing one Red & one Black balls (RB or BR): 0.533\n",
      "3: Probability of drawing two Black balls (BB): 0.333\n",
      "\n",
      "2.1: if the balls drawn are RB then Probability = 0.267\n",
      "\n",
      "2.2: if the balls drawn are BR then Probability = 0.267\n"
     ]
    }
   ],
   "source": [
    "# Method 1 - Using Math Library\n",
    "def nCr(n,r):\n",
    "    f = math.factorial\n",
    "    return f(n)/f(r)/f(n-r)\n",
    "P1 = nCr(4,2)/nCr(10,2)\n",
    "P2 = nCr(4,1)*nCr(6,1)/nCr(10,2)\n",
    "P3 = nCr(6,2)/nCr(10,2)\n",
    "\n",
    "print(\"1: Probability of drawing two Red balls (RR):\", round(P1,3))\n",
    "print(\"2: Probability of drawing one Red & one Black balls (RB or BR):\", round(P2,3))\n",
    "print(\"3: Probability of drawing two Black balls (BB):\", round(P3,3))\n",
    "\n",
    "P2i = 4/10*6/9\n",
    "P2ii = 6/10*4/9\n",
    "\n",
    "print(\"\\n2.1: if the balls drawn are RB then Probability =\", round(P2i,3))\n",
    "print(\"\\n2.2: if the balls drawn are BR then Probability =\", round(P2ii,3))"
   ]
  }
 ],
 "metadata": {
  "kernelspec": {
   "display_name": "Python 3",
   "language": "python",
   "name": "python3"
  },
  "language_info": {
   "codemirror_mode": {
    "name": "ipython",
    "version": 3
   },
   "file_extension": ".py",
   "mimetype": "text/x-python",
   "name": "python",
   "nbconvert_exporter": "python",
   "pygments_lexer": "ipython3",
   "version": "3.7.1"
  }
 },
 "nbformat": 4,
 "nbformat_minor": 2
}
